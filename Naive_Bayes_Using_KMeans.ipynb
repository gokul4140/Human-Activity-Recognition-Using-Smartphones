{
  "cells": [
    {
      "cell_type": "code",
      "execution_count": 3,
      "metadata": {
        "id": "G77w0mahHkmf"
      },
      "outputs": [],
      "source": [
        "import requests\n",
        "from bs4 import BeautifulSoup\n",
        "import zipfile\n",
        "import io\n",
        "import pandas as pd\n",
        "from sklearn.cluster import KMeans\n",
        "from sklearn.model_selection import train_test_split\n",
        "from sklearn.preprocessing import LabelEncoder, StandardScaler\n",
        "from sklearn.linear_model import LogisticRegression\n",
        "from sklearn.pipeline import Pipeline\n",
        "from sklearn.metrics import accuracy_score, classification_report\n",
        "import numpy as np\n",
        "import time\n",
        "\n",
        "# Function to download and load dataset\n",
        "def load_data():\n",
        "    page_url = 'https://archive.ics.uci.edu/dataset/240/human+activity+recognition+using+smartphones'\n",
        "    page_response = requests.get(page_url)\n",
        "    if page_response.status_code == 200:\n",
        "        soup = BeautifulSoup(page_response.content, 'html.parser')\n",
        "        download_link = soup.select_one('a[href$=\".zip\"]')['href']\n",
        "        full_download_url = 'https://archive.ics.uci.edu' + download_link\n",
        "        response = requests.get(full_download_url)\n",
        "        if response.status_code == 200:\n",
        "            with zipfile.ZipFile(io.BytesIO(response.content)) as outer_zip:\n",
        "                inner_zip_name = 'UCI HAR Dataset.zip'\n",
        "                with outer_zip.open(inner_zip_name) as inner_zip_file:\n",
        "                    with zipfile.ZipFile(io.BytesIO(inner_zip_file.read())) as inner_zip:\n",
        "                        with inner_zip.open('UCI HAR Dataset/train/X_train.txt') as myfile:\n",
        "                            df = pd.read_csv(myfile, delim_whitespace=True, header=None)\n",
        "                        with inner_zip.open('UCI HAR Dataset/train/y_train.txt') as myfile_y:\n",
        "                            y = pd.read_csv(myfile_y, delim_whitespace=True, header=None)\n",
        "    else:\n",
        "        raise Exception(\"Failed to download or parse the dataset.\")\n",
        "    return df, y"
      ]
    },
    {
      "cell_type": "code",
      "execution_count": 4,
      "metadata": {
        "colab": {
          "base_uri": "https://localhost:8080/"
        },
        "id": "99mi0fmkHomE",
        "outputId": "8304ec58-89b9-4024-d496-470dc06ee9e8"
      },
      "outputs": [
        {
          "output_type": "stream",
          "name": "stderr",
          "text": [
            "<ipython-input-3-836ccc4d8ebc>:30: FutureWarning: The 'delim_whitespace' keyword in pd.read_csv is deprecated and will be removed in a future version. Use ``sep='\\s+'`` instead\n",
            "  df = pd.read_csv(myfile, delim_whitespace=True, header=None)\n",
            "<ipython-input-3-836ccc4d8ebc>:32: FutureWarning: The 'delim_whitespace' keyword in pd.read_csv is deprecated and will be removed in a future version. Use ``sep='\\s+'`` instead\n",
            "  y = pd.read_csv(myfile_y, delim_whitespace=True, header=None)\n"
          ]
        }
      ],
      "source": [
        "import pandas as pd\n",
        "from sklearn.model_selection import train_test_split\n",
        "from sklearn.preprocessing import LabelEncoder, StandardScaler\n",
        "from sklearn.linear_model import LogisticRegression\n",
        "from sklearn.pipeline import Pipeline\n",
        "from sklearn.metrics import accuracy_score\n",
        "from sklearn.cluster import KMeans\n",
        "import numpy as np\n",
        "import time\n",
        "\n",
        "# Load dataset\n",
        "df, y = load_data()\n",
        "\n",
        "#TASK 1 - DO EDA and understand a little about the data.\n",
        "#Only important thing is to know that it has a lot of features that don't make sense, just a\n",
        "#bunch of readings from sensors.\n",
        "#We think many of these features are redundant or irrelevant, and we want to find good features."
      ]
    },
    {
      "cell_type": "code",
      "execution_count": 5,
      "metadata": {
        "colab": {
          "base_uri": "https://localhost:8080/"
        },
        "id": "wI3Cqgo6HqlL",
        "outputId": "bfb86112-2cdd-4d13-cb50-2cf2613d48f7"
      },
      "outputs": [
        {
          "output_type": "stream",
          "name": "stdout",
          "text": [
            "<class 'pandas.core.frame.DataFrame'>\n",
            "RangeIndex: 7352 entries, 0 to 7351\n",
            "Columns: 561 entries, 0 to 560\n",
            "dtypes: float64(561)\n",
            "memory usage: 31.5 MB\n"
          ]
        }
      ],
      "source": [
        "df.info()"
      ]
    },
    {
      "cell_type": "code",
      "execution_count": 6,
      "metadata": {
        "colab": {
          "base_uri": "https://localhost:8080/"
        },
        "id": "VJM9NJzZb4P1",
        "outputId": "10e46a8a-de5d-4013-b21b-181f0dfc5c60"
      },
      "outputs": [
        {
          "output_type": "execute_result",
          "data": {
            "text/plain": [
              "array([[ 0.20064157, -0.0636826 , -0.41962845, ..., -0.68721921,\n",
              "         0.40794614, -0.00756789],\n",
              "       [ 0.05594788,  0.03148567, -0.25390836, ..., -0.694138  ,\n",
              "         0.40911698,  0.00787517],\n",
              "       [ 0.07351535, -0.04341648, -0.07629468, ..., -0.702239  ,\n",
              "         0.4102883 ,  0.02650234],\n",
              "       ...,\n",
              "       [-0.01566765,  0.0167814 ,  1.13222107, ..., -0.56584847,\n",
              "         0.64059683,  0.34870928],\n",
              "       [ 0.21586648, -0.02812252, -0.86770988, ..., -0.57766781,\n",
              "         0.63147758,  0.29327564],\n",
              "       [ 1.09620157,  0.12919873, -1.67268082, ..., -0.57392691,\n",
              "         0.63274259,  0.33396081]])"
            ]
          },
          "metadata": {},
          "execution_count": 6
        }
      ],
      "source": [
        "from sklearn.preprocessing import StandardScaler\n",
        "st=StandardScaler()\n",
        "df=st.fit_transform(df)\n",
        "df"
      ]
    },
    {
      "cell_type": "code",
      "execution_count": 7,
      "metadata": {
        "colab": {
          "base_uri": "https://localhost:8080/"
        },
        "id": "H4vtRCV2cSDP",
        "outputId": "d844e55f-58e7-4845-dcb0-b2f71030c845"
      },
      "outputs": [
        {
          "output_type": "execute_result",
          "data": {
            "text/plain": [
              "array([[ 2.25982767,  0.13646002,  0.11571968, ..., -0.19792178,\n",
              "         0.92243948,  0.83135764],\n",
              "       [ 0.04411624, -0.2277251 ,  0.19175243, ..., -0.8711634 ,\n",
              "         0.05333659,  0.41980263],\n",
              "       [ 0.04192655,  0.02572733, -0.02100604, ..., -0.68293517,\n",
              "         0.44876846,  0.04359406],\n",
              "       ...,\n",
              "       [ 0.02640686, -0.02025411,  0.04242439, ..., -0.32376084,\n",
              "         0.80382605,  0.73905251],\n",
              "       [ 0.03942031,  0.08444794, -0.0541105 , ..., -0.47755521,\n",
              "        -0.1868364 , -0.32803986],\n",
              "       [-0.21800208,  0.0244102 ,  0.221871  , ...,  1.83759575,\n",
              "        -2.57910916, -0.7687313 ]])"
            ]
          },
          "metadata": {},
          "execution_count": 7
        }
      ],
      "source": [
        "from sklearn.model_selection import train_test_split\n",
        "xtrain,xtest,ytrain,ytest=train_test_split(df,y,test_size=0.25,random_state=1)\n",
        "xtrain"
      ]
    },
    {
      "cell_type": "code",
      "source": [
        "# SOLUTION -  K-Means for dimensionality reduction\n",
        "n_clusters = 50\n",
        "from sklearn.cluster import KMeans\n",
        "kmeans = KMeans(n_clusters=n_clusters, random_state=42, n_init=10)\n",
        "kmeans.fit(df.T)\n",
        "selected_features_indices = [np.random.choice(np.where(kmeans.labels_ == i)[0]) for i in range(n_clusters)]\n",
        "selected_features = df[:, selected_features_indices]"
      ],
      "metadata": {
        "id": "narqdFGuj7I2"
      },
      "execution_count": 8,
      "outputs": []
    },
    {
      "cell_type": "code",
      "source": [
        "df=selected_features"
      ],
      "metadata": {
        "id": "Z_4vEKIBwqQC"
      },
      "execution_count": 10,
      "outputs": []
    },
    {
      "cell_type": "code",
      "source": [
        "from sklearn.model_selection import train_test_split\n",
        "xtrain,xtest,ytrain,ytest=train_test_split(df,y,test_size=0.25,random_state=1)\n",
        "xtrain"
      ],
      "metadata": {
        "id": "KQ3-lm3jj7h7",
        "colab": {
          "base_uri": "https://localhost:8080/"
        },
        "outputId": "2eb276f5-5679-4fd5-b3aa-85e9b28f390d"
      },
      "execution_count": 11,
      "outputs": [
        {
          "output_type": "execute_result",
          "data": {
            "text/plain": [
              "array([[ 0.04735575,  1.19475628,  1.04514681, ..., -0.07676241,\n",
              "        -0.52428864,  0.18056461],\n",
              "       [-0.23889251, -0.97355102, -0.78014913, ...,  0.69003593,\n",
              "        -0.0884327 , -0.48485441],\n",
              "       [ 0.55422333, -0.97355102, -0.78214974, ..., -0.82316801,\n",
              "         1.07689567,  0.18056461],\n",
              "       ...,\n",
              "       [-0.01689411, -0.97355102, -0.7829029 , ..., -0.63716052,\n",
              "         1.39234935, -0.70666073],\n",
              "       [-0.83800588, -0.97355102, -0.78140768, ...,  1.05469018,\n",
              "         0.57850346,  0.18056461],\n",
              "       [ 0.77022388, -0.67343349, -0.78130245, ...,  1.63303973,\n",
              "        -1.0888989 ,  0.18056461]])"
            ]
          },
          "metadata": {},
          "execution_count": 11
        }
      ]
    },
    {
      "cell_type": "code",
      "source": [
        "from sklearn.naive_bayes import GaussianNB\n",
        "model=GaussianNB()\n",
        "ypred=model.fit(xtrain,ytrain)"
      ],
      "metadata": {
        "id": "j5MVhv5WkcUt",
        "colab": {
          "base_uri": "https://localhost:8080/"
        },
        "outputId": "b8939fdc-9d84-4b2d-d3a8-d3344bc1aad1"
      },
      "execution_count": 12,
      "outputs": [
        {
          "output_type": "stream",
          "name": "stderr",
          "text": [
            "/usr/local/lib/python3.10/dist-packages/sklearn/utils/validation.py:1408: DataConversionWarning: A column-vector y was passed when a 1d array was expected. Please change the shape of y to (n_samples, ), for example using ravel().\n",
            "  y = column_or_1d(y, warn=True)\n"
          ]
        }
      ]
    },
    {
      "cell_type": "code",
      "source": [
        "ypred=model.predict(xtest)"
      ],
      "metadata": {
        "id": "EkowzSNdw0-V"
      },
      "execution_count": 13,
      "outputs": []
    },
    {
      "cell_type": "code",
      "source": [
        "from sklearn.metrics import accuracy_score\n",
        "accuracy_score(ytest,ypred)"
      ],
      "metadata": {
        "colab": {
          "base_uri": "https://localhost:8080/"
        },
        "id": "X1i4tz3bw0mZ",
        "outputId": "7d74f997-26b9-40a6-e215-bfd425824c60"
      },
      "execution_count": 14,
      "outputs": [
        {
          "output_type": "execute_result",
          "data": {
            "text/plain": [
              "0.8220892274211099"
            ]
          },
          "metadata": {},
          "execution_count": 14
        }
      ]
    }
  ],
  "metadata": {
    "accelerator": "GPU",
    "colab": {
      "gpuType": "T4",
      "provenance": []
    },
    "kernelspec": {
      "display_name": "Python 3",
      "name": "python3"
    },
    "language_info": {
      "name": "python"
    }
  },
  "nbformat": 4,
  "nbformat_minor": 0
}